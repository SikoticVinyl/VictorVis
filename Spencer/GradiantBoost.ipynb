{
 "cells": [
  {
   "cell_type": "code",
   "execution_count": 1,
   "metadata": {},
   "outputs": [],
   "source": [
    "import pickle\n",
    "import pandas as pd\n",
    "from sklearn.model_selection import train_test_split\n",
    "from sklearn.ensemble import HistGradientBoostingClassifier\n",
    "from sklearn.preprocessing import LabelEncoder"
   ]
  },
  {
   "cell_type": "code",
   "execution_count": 2,
   "metadata": {},
   "outputs": [],
   "source": [
    "# Function to load data from a pickle file\n",
    "def load_data():\n",
    "    pickle_file_path = r'C:\\Users\\spenc\\VictorVis\\CleanData\\all_players_df.pkl'  # Adjust the path as needed\n",
    "    with open(pickle_file_path, 'rb') as file:\n",
    "        return pickle.load(file)\n",
    "\n",
    "# Load the dataset\n",
    "all_player_df = load_data()"
   ]
  },
  {
   "cell_type": "code",
   "execution_count": 3,
   "metadata": {},
   "outputs": [
    {
     "data": {
      "text/html": [
       "<div>\n",
       "<style scoped>\n",
       "    .dataframe tbody tr th:only-of-type {\n",
       "        vertical-align: middle;\n",
       "    }\n",
       "\n",
       "    .dataframe tbody tr th {\n",
       "        vertical-align: top;\n",
       "    }\n",
       "\n",
       "    .dataframe thead th {\n",
       "        text-align: right;\n",
       "    }\n",
       "</style>\n",
       "<table border=\"1\" class=\"dataframe\">\n",
       "  <thead>\n",
       "    <tr style=\"text-align: right;\">\n",
       "      <th></th>\n",
       "      <th>player_name</th>\n",
       "      <th>kd_ratio</th>\n",
       "      <th>kpr</th>\n",
       "      <th>kills_per_round</th>\n",
       "      <th>firepower_score</th>\n",
       "      <th>firepower_rounds_with_kill</th>\n",
       "      <th>impact</th>\n",
       "      <th>firepower_kills_per_round</th>\n",
       "      <th>firepower_rounds_with_multi_kill</th>\n",
       "      <th>opening_success</th>\n",
       "      <th>kast</th>\n",
       "    </tr>\n",
       "    <tr>\n",
       "      <th>team</th>\n",
       "      <th></th>\n",
       "      <th></th>\n",
       "      <th></th>\n",
       "      <th></th>\n",
       "      <th></th>\n",
       "      <th></th>\n",
       "      <th></th>\n",
       "      <th></th>\n",
       "      <th></th>\n",
       "      <th></th>\n",
       "      <th></th>\n",
       "    </tr>\n",
       "  </thead>\n",
       "  <tbody>\n",
       "    <tr>\n",
       "      <th>vitality</th>\n",
       "      <td>ZywOo</td>\n",
       "      <td>0.924242</td>\n",
       "      <td>0.966667</td>\n",
       "      <td>0.966667</td>\n",
       "      <td>1.000000</td>\n",
       "      <td>0.881579</td>\n",
       "      <td>1.000000</td>\n",
       "      <td>0.848485</td>\n",
       "      <td>0.859649</td>\n",
       "      <td>0.712375</td>\n",
       "      <td>0.924370</td>\n",
       "    </tr>\n",
       "    <tr>\n",
       "      <th>vitality</th>\n",
       "      <td>Spinx</td>\n",
       "      <td>0.560606</td>\n",
       "      <td>0.600000</td>\n",
       "      <td>0.600000</td>\n",
       "      <td>0.788889</td>\n",
       "      <td>0.631579</td>\n",
       "      <td>0.529412</td>\n",
       "      <td>0.575758</td>\n",
       "      <td>0.570175</td>\n",
       "      <td>0.421405</td>\n",
       "      <td>0.663866</td>\n",
       "    </tr>\n",
       "    <tr>\n",
       "      <th>vitality</th>\n",
       "      <td>mezii</td>\n",
       "      <td>0.484848</td>\n",
       "      <td>0.500000</td>\n",
       "      <td>0.500000</td>\n",
       "      <td>0.677778</td>\n",
       "      <td>0.539474</td>\n",
       "      <td>0.441176</td>\n",
       "      <td>0.484848</td>\n",
       "      <td>0.464912</td>\n",
       "      <td>0.377926</td>\n",
       "      <td>0.747899</td>\n",
       "    </tr>\n",
       "    <tr>\n",
       "      <th>vitality</th>\n",
       "      <td>flameZ</td>\n",
       "      <td>0.424242</td>\n",
       "      <td>0.500000</td>\n",
       "      <td>0.500000</td>\n",
       "      <td>0.711111</td>\n",
       "      <td>0.559211</td>\n",
       "      <td>0.602941</td>\n",
       "      <td>0.545455</td>\n",
       "      <td>0.535088</td>\n",
       "      <td>0.361204</td>\n",
       "      <td>0.689076</td>\n",
       "    </tr>\n",
       "    <tr>\n",
       "      <th>vitality</th>\n",
       "      <td>apEX</td>\n",
       "      <td>0.333333</td>\n",
       "      <td>0.466667</td>\n",
       "      <td>0.466667</td>\n",
       "      <td>0.666667</td>\n",
       "      <td>0.473684</td>\n",
       "      <td>0.455882</td>\n",
       "      <td>0.454545</td>\n",
       "      <td>0.447368</td>\n",
       "      <td>0.311037</td>\n",
       "      <td>0.352941</td>\n",
       "    </tr>\n",
       "    <tr>\n",
       "      <th>...</th>\n",
       "      <td>...</td>\n",
       "      <td>...</td>\n",
       "      <td>...</td>\n",
       "      <td>...</td>\n",
       "      <td>...</td>\n",
       "      <td>...</td>\n",
       "      <td>...</td>\n",
       "      <td>...</td>\n",
       "      <td>...</td>\n",
       "      <td>...</td>\n",
       "      <td>...</td>\n",
       "    </tr>\n",
       "    <tr>\n",
       "      <th>no team</th>\n",
       "      <td>seang@res</td>\n",
       "      <td>0.136364</td>\n",
       "      <td>0.133333</td>\n",
       "      <td>0.133333</td>\n",
       "      <td>0.166667</td>\n",
       "      <td>0.144737</td>\n",
       "      <td>0.176471</td>\n",
       "      <td>0.121212</td>\n",
       "      <td>0.114035</td>\n",
       "      <td>0.140468</td>\n",
       "      <td>0.302521</td>\n",
       "    </tr>\n",
       "    <tr>\n",
       "      <th>no team</th>\n",
       "      <td>def</td>\n",
       "      <td>0.106061</td>\n",
       "      <td>0.133333</td>\n",
       "      <td>0.133333</td>\n",
       "      <td>0.144444</td>\n",
       "      <td>0.177632</td>\n",
       "      <td>0.147059</td>\n",
       "      <td>0.151515</td>\n",
       "      <td>0.149123</td>\n",
       "      <td>0.130435</td>\n",
       "      <td>0.386555</td>\n",
       "    </tr>\n",
       "    <tr>\n",
       "      <th>no team</th>\n",
       "      <td>advent</td>\n",
       "      <td>0.106061</td>\n",
       "      <td>0.000000</td>\n",
       "      <td>0.000000</td>\n",
       "      <td>0.000000</td>\n",
       "      <td>0.085526</td>\n",
       "      <td>0.000000</td>\n",
       "      <td>0.060606</td>\n",
       "      <td>0.043860</td>\n",
       "      <td>0.150502</td>\n",
       "      <td>0.537815</td>\n",
       "    </tr>\n",
       "    <tr>\n",
       "      <th>no team</th>\n",
       "      <td>gob b</td>\n",
       "      <td>0.090909</td>\n",
       "      <td>0.033333</td>\n",
       "      <td>0.033333</td>\n",
       "      <td>0.077778</td>\n",
       "      <td>0.092105</td>\n",
       "      <td>0.132353</td>\n",
       "      <td>0.060606</td>\n",
       "      <td>0.061404</td>\n",
       "      <td>0.173913</td>\n",
       "      <td>0.319328</td>\n",
       "    </tr>\n",
       "    <tr>\n",
       "      <th>no team</th>\n",
       "      <td>netrick</td>\n",
       "      <td>0.030303</td>\n",
       "      <td>0.033333</td>\n",
       "      <td>0.033333</td>\n",
       "      <td>0.088889</td>\n",
       "      <td>0.125000</td>\n",
       "      <td>0.147059</td>\n",
       "      <td>0.090909</td>\n",
       "      <td>0.105263</td>\n",
       "      <td>0.143813</td>\n",
       "      <td>0.159664</td>\n",
       "    </tr>\n",
       "  </tbody>\n",
       "</table>\n",
       "<p>968 rows × 11 columns</p>\n",
       "</div>"
      ],
      "text/plain": [
       "         player_name  kd_ratio       kpr  kills_per_round  firepower_score  \\\n",
       "team                                                                         \n",
       "vitality       ZywOo  0.924242  0.966667         0.966667         1.000000   \n",
       "vitality       Spinx  0.560606  0.600000         0.600000         0.788889   \n",
       "vitality       mezii  0.484848  0.500000         0.500000         0.677778   \n",
       "vitality      flameZ  0.424242  0.500000         0.500000         0.711111   \n",
       "vitality        apEX  0.333333  0.466667         0.466667         0.666667   \n",
       "...              ...       ...       ...              ...              ...   \n",
       "no team    seang@res  0.136364  0.133333         0.133333         0.166667   \n",
       "no team          def  0.106061  0.133333         0.133333         0.144444   \n",
       "no team       advent  0.106061  0.000000         0.000000         0.000000   \n",
       "no team        gob b  0.090909  0.033333         0.033333         0.077778   \n",
       "no team      netrick  0.030303  0.033333         0.033333         0.088889   \n",
       "\n",
       "          firepower_rounds_with_kill    impact  firepower_kills_per_round  \\\n",
       "team                                                                        \n",
       "vitality                    0.881579  1.000000                   0.848485   \n",
       "vitality                    0.631579  0.529412                   0.575758   \n",
       "vitality                    0.539474  0.441176                   0.484848   \n",
       "vitality                    0.559211  0.602941                   0.545455   \n",
       "vitality                    0.473684  0.455882                   0.454545   \n",
       "...                              ...       ...                        ...   \n",
       "no team                     0.144737  0.176471                   0.121212   \n",
       "no team                     0.177632  0.147059                   0.151515   \n",
       "no team                     0.085526  0.000000                   0.060606   \n",
       "no team                     0.092105  0.132353                   0.060606   \n",
       "no team                     0.125000  0.147059                   0.090909   \n",
       "\n",
       "          firepower_rounds_with_multi_kill  opening_success      kast  \n",
       "team                                                                   \n",
       "vitality                          0.859649         0.712375  0.924370  \n",
       "vitality                          0.570175         0.421405  0.663866  \n",
       "vitality                          0.464912         0.377926  0.747899  \n",
       "vitality                          0.535088         0.361204  0.689076  \n",
       "vitality                          0.447368         0.311037  0.352941  \n",
       "...                                    ...              ...       ...  \n",
       "no team                           0.114035         0.140468  0.302521  \n",
       "no team                           0.149123         0.130435  0.386555  \n",
       "no team                           0.043860         0.150502  0.537815  \n",
       "no team                           0.061404         0.173913  0.319328  \n",
       "no team                           0.105263         0.143813  0.159664  \n",
       "\n",
       "[968 rows x 11 columns]"
      ]
     },
     "execution_count": 3,
     "metadata": {},
     "output_type": "execute_result"
    }
   ],
   "source": [
    "all_players = all_player_df[['team', 'player_name', 'kd_ratio', 'kpr', 'kills_per_round',\n",
    "                                  'firepower_score', 'firepower_rounds_with_kill',\n",
    "                                  'impact', 'firepower_kills_per_round', 'firepower_rounds_with_multi_kill',\n",
    "                                  'opening_success', 'kast']]\n",
    "\n",
    "all_players.set_index('team', inplace=True)\n",
    "all_players"
   ]
  },
  {
   "cell_type": "code",
   "execution_count": 4,
   "metadata": {},
   "outputs": [
    {
     "name": "stderr",
     "output_type": "stream",
     "text": [
      "C:\\Users\\spenc\\AppData\\Local\\Temp\\ipykernel_24252\\1180553777.py:2: SettingWithCopyWarning: \n",
      "A value is trying to be set on a copy of a slice from a DataFrame.\n",
      "Try using .loc[row_indexer,col_indexer] = value instead\n",
      "\n",
      "See the caveats in the documentation: https://pandas.pydata.org/pandas-docs/stable/user_guide/indexing.html#returning-a-view-versus-a-copy\n",
      "  all_players['player_name_encoded'] = label_encoder.fit_transform(all_players['player_name'])\n"
     ]
    }
   ],
   "source": [
    "label_encoder = LabelEncoder()\n",
    "all_players['player_name_encoded'] = label_encoder.fit_transform(all_players['player_name'])"
   ]
  },
  {
   "cell_type": "code",
   "execution_count": 5,
   "metadata": {},
   "outputs": [],
   "source": [
    "X = all_players.drop(['kast', 'player_name'], axis=1)\n",
    "y = all_players['kast']"
   ]
  },
  {
   "cell_type": "code",
   "execution_count": 6,
   "metadata": {},
   "outputs": [
    {
     "name": "stderr",
     "output_type": "stream",
     "text": [
      "C:\\Users\\spenc\\AppData\\Local\\Temp\\ipykernel_24252\\241748240.py:1: DeprecationWarning: is_categorical_dtype is deprecated and will be removed in a future version. Use isinstance(dtype, pd.CategoricalDtype) instead\n",
      "  if not pd.api.types.is_categorical_dtype(y):\n"
     ]
    }
   ],
   "source": [
    "if not pd.api.types.is_categorical_dtype(y):\n",
    "    y = pd.Series(y).astype('category')\n",
    "\n",
    "# Optionally encode categorical labels to integers\n",
    "le = LabelEncoder()\n",
    "y = le.fit_transform(y)"
   ]
  },
  {
   "cell_type": "code",
   "execution_count": 7,
   "metadata": {},
   "outputs": [],
   "source": [
    "# Split data into training and test sets\n",
    "X_train, X_test, y_train, y_test = train_test_split(X, y, test_size=0.2, random_state=42)"
   ]
  },
  {
   "cell_type": "code",
   "execution_count": 8,
   "metadata": {},
   "outputs": [
    {
     "data": {
      "text/html": [
       "<style>#sk-container-id-1 {color: black;background-color: white;}#sk-container-id-1 pre{padding: 0;}#sk-container-id-1 div.sk-toggleable {background-color: white;}#sk-container-id-1 label.sk-toggleable__label {cursor: pointer;display: block;width: 100%;margin-bottom: 0;padding: 0.3em;box-sizing: border-box;text-align: center;}#sk-container-id-1 label.sk-toggleable__label-arrow:before {content: \"▸\";float: left;margin-right: 0.25em;color: #696969;}#sk-container-id-1 label.sk-toggleable__label-arrow:hover:before {color: black;}#sk-container-id-1 div.sk-estimator:hover label.sk-toggleable__label-arrow:before {color: black;}#sk-container-id-1 div.sk-toggleable__content {max-height: 0;max-width: 0;overflow: hidden;text-align: left;background-color: #f0f8ff;}#sk-container-id-1 div.sk-toggleable__content pre {margin: 0.2em;color: black;border-radius: 0.25em;background-color: #f0f8ff;}#sk-container-id-1 input.sk-toggleable__control:checked~div.sk-toggleable__content {max-height: 200px;max-width: 100%;overflow: auto;}#sk-container-id-1 input.sk-toggleable__control:checked~label.sk-toggleable__label-arrow:before {content: \"▾\";}#sk-container-id-1 div.sk-estimator input.sk-toggleable__control:checked~label.sk-toggleable__label {background-color: #d4ebff;}#sk-container-id-1 div.sk-label input.sk-toggleable__control:checked~label.sk-toggleable__label {background-color: #d4ebff;}#sk-container-id-1 input.sk-hidden--visually {border: 0;clip: rect(1px 1px 1px 1px);clip: rect(1px, 1px, 1px, 1px);height: 1px;margin: -1px;overflow: hidden;padding: 0;position: absolute;width: 1px;}#sk-container-id-1 div.sk-estimator {font-family: monospace;background-color: #f0f8ff;border: 1px dotted black;border-radius: 0.25em;box-sizing: border-box;margin-bottom: 0.5em;}#sk-container-id-1 div.sk-estimator:hover {background-color: #d4ebff;}#sk-container-id-1 div.sk-parallel-item::after {content: \"\";width: 100%;border-bottom: 1px solid gray;flex-grow: 1;}#sk-container-id-1 div.sk-label:hover label.sk-toggleable__label {background-color: #d4ebff;}#sk-container-id-1 div.sk-serial::before {content: \"\";position: absolute;border-left: 1px solid gray;box-sizing: border-box;top: 0;bottom: 0;left: 50%;z-index: 0;}#sk-container-id-1 div.sk-serial {display: flex;flex-direction: column;align-items: center;background-color: white;padding-right: 0.2em;padding-left: 0.2em;position: relative;}#sk-container-id-1 div.sk-item {position: relative;z-index: 1;}#sk-container-id-1 div.sk-parallel {display: flex;align-items: stretch;justify-content: center;background-color: white;position: relative;}#sk-container-id-1 div.sk-item::before, #sk-container-id-1 div.sk-parallel-item::before {content: \"\";position: absolute;border-left: 1px solid gray;box-sizing: border-box;top: 0;bottom: 0;left: 50%;z-index: -1;}#sk-container-id-1 div.sk-parallel-item {display: flex;flex-direction: column;z-index: 1;position: relative;background-color: white;}#sk-container-id-1 div.sk-parallel-item:first-child::after {align-self: flex-end;width: 50%;}#sk-container-id-1 div.sk-parallel-item:last-child::after {align-self: flex-start;width: 50%;}#sk-container-id-1 div.sk-parallel-item:only-child::after {width: 0;}#sk-container-id-1 div.sk-dashed-wrapped {border: 1px dashed gray;margin: 0 0.4em 0.5em 0.4em;box-sizing: border-box;padding-bottom: 0.4em;background-color: white;}#sk-container-id-1 div.sk-label label {font-family: monospace;font-weight: bold;display: inline-block;line-height: 1.2em;}#sk-container-id-1 div.sk-label-container {text-align: center;}#sk-container-id-1 div.sk-container {/* jupyter's `normalize.less` sets `[hidden] { display: none; }` but bootstrap.min.css set `[hidden] { display: none !important; }` so we also need the `!important` here to be able to override the default hidden behavior on the sphinx rendered scikit-learn.org. See: https://github.com/scikit-learn/scikit-learn/issues/21755 */display: inline-block !important;position: relative;}#sk-container-id-1 div.sk-text-repr-fallback {display: none;}</style><div id=\"sk-container-id-1\" class=\"sk-top-container\"><div class=\"sk-text-repr-fallback\"><pre>HistGradientBoostingClassifier()</pre><b>In a Jupyter environment, please rerun this cell to show the HTML representation or trust the notebook. <br />On GitHub, the HTML representation is unable to render, please try loading this page with nbviewer.org.</b></div><div class=\"sk-container\" hidden><div class=\"sk-item\"><div class=\"sk-estimator sk-toggleable\"><input class=\"sk-toggleable__control sk-hidden--visually\" id=\"sk-estimator-id-1\" type=\"checkbox\" checked><label for=\"sk-estimator-id-1\" class=\"sk-toggleable__label sk-toggleable__label-arrow\">HistGradientBoostingClassifier</label><div class=\"sk-toggleable__content\"><pre>HistGradientBoostingClassifier()</pre></div></div></div></div></div>"
      ],
      "text/plain": [
       "HistGradientBoostingClassifier()"
      ]
     },
     "execution_count": 8,
     "metadata": {},
     "output_type": "execute_result"
    }
   ],
   "source": [
    "# Initialize and train the HistGradientBoostingClassifier\n",
    "model = HistGradientBoostingClassifier()\n",
    "model.fit(X_test, y_test)"
   ]
  },
  {
   "cell_type": "code",
   "execution_count": 9,
   "metadata": {},
   "outputs": [
    {
     "name": "stdout",
     "output_type": "stream",
     "text": [
      "Model Accuracy: 1.00\n"
     ]
    }
   ],
   "source": [
    "# Evaluate the model\n",
    "accuracy = model.score(X_test, y_test)\n",
    "print(f'Model Accuracy: {accuracy:.2f}')"
   ]
  }
 ],
 "metadata": {
  "kernelspec": {
   "display_name": "base",
   "language": "python",
   "name": "python3"
  },
  "language_info": {
   "codemirror_mode": {
    "name": "ipython",
    "version": 3
   },
   "file_extension": ".py",
   "mimetype": "text/x-python",
   "name": "python",
   "nbconvert_exporter": "python",
   "pygments_lexer": "ipython3",
   "version": "3.11.7"
  }
 },
 "nbformat": 4,
 "nbformat_minor": 2
}
