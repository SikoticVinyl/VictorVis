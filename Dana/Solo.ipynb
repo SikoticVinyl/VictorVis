{
 "cells": [
  {
   "cell_type": "code",
   "execution_count": 1,
   "metadata": {},
   "outputs": [],
   "source": [
    "import pandas as pd\n",
    "\n",
    "# Read the data from the CSV file\n",
    "df = pd.read_csv('../data/deep_player_data.csv')"
   ]
  },
  {
   "cell_type": "code",
   "execution_count": 7,
   "metadata": {},
   "outputs": [
    {
     "data": {
      "text/html": [
       "<div>\n",
       "<style scoped>\n",
       "    .dataframe tbody tr th:only-of-type {\n",
       "        vertical-align: middle;\n",
       "    }\n",
       "\n",
       "    .dataframe tbody tr th {\n",
       "        vertical-align: top;\n",
       "    }\n",
       "\n",
       "    .dataframe thead th {\n",
       "        text-align: right;\n",
       "    }\n",
       "</style>\n",
       "<table border=\"1\" class=\"dataframe\">\n",
       "  <thead>\n",
       "    <tr style=\"text-align: right;\">\n",
       "      <th></th>\n",
       "      <th>Basic Info_Player Name</th>\n",
       "      <th>Basic Info_Team Name</th>\n",
       "    </tr>\n",
       "  </thead>\n",
       "  <tbody>\n",
       "    <tr>\n",
       "      <th>139</th>\n",
       "      <td>CLASIA</td>\n",
       "      <td>undefined</td>\n",
       "    </tr>\n",
       "    <tr>\n",
       "      <th>324</th>\n",
       "      <td>motm</td>\n",
       "      <td>undefined</td>\n",
       "    </tr>\n",
       "    <tr>\n",
       "      <th>562</th>\n",
       "      <td>chop</td>\n",
       "      <td>undefined</td>\n",
       "    </tr>\n",
       "    <tr>\n",
       "      <th>580</th>\n",
       "      <td>stamina</td>\n",
       "      <td>undefined</td>\n",
       "    </tr>\n",
       "  </tbody>\n",
       "</table>\n",
       "</div>"
      ],
      "text/plain": [
       "    Basic Info_Player Name Basic Info_Team Name\n",
       "139                 CLASIA            undefined\n",
       "324                   motm            undefined\n",
       "562                   chop            undefined\n",
       "580                stamina            undefined"
      ]
     },
     "metadata": {},
     "output_type": "display_data"
    },
    {
     "data": {
      "text/html": [
       "<div>\n",
       "<style scoped>\n",
       "    .dataframe tbody tr th:only-of-type {\n",
       "        vertical-align: middle;\n",
       "    }\n",
       "\n",
       "    .dataframe tbody tr th {\n",
       "        vertical-align: top;\n",
       "    }\n",
       "\n",
       "    .dataframe thead th {\n",
       "        text-align: right;\n",
       "    }\n",
       "</style>\n",
       "<table border=\"1\" class=\"dataframe\">\n",
       "  <thead>\n",
       "    <tr style=\"text-align: right;\">\n",
       "      <th></th>\n",
       "      <th>Basic Info_Player Name</th>\n",
       "      <th>Basic Info_Team Name</th>\n",
       "    </tr>\n",
       "  </thead>\n",
       "  <tbody>\n",
       "    <tr>\n",
       "      <th>139</th>\n",
       "      <td>CLASIA</td>\n",
       "      <td>undefined</td>\n",
       "    </tr>\n",
       "    <tr>\n",
       "      <th>324</th>\n",
       "      <td>motm</td>\n",
       "      <td>undefined</td>\n",
       "    </tr>\n",
       "    <tr>\n",
       "      <th>562</th>\n",
       "      <td>chop</td>\n",
       "      <td>undefined</td>\n",
       "    </tr>\n",
       "    <tr>\n",
       "      <th>580</th>\n",
       "      <td>stamina</td>\n",
       "      <td>undefined</td>\n",
       "    </tr>\n",
       "  </tbody>\n",
       "</table>\n",
       "</div>"
      ],
      "text/plain": [
       "    Basic Info_Player Name Basic Info_Team Name\n",
       "139                 CLASIA            undefined\n",
       "324                   motm            undefined\n",
       "562                   chop            undefined\n",
       "580                stamina            undefined"
      ]
     },
     "metadata": {},
     "output_type": "display_data"
    }
   ],
   "source": [
    "# Filter the DataFrame (teams with missing or undefined team names)\n",
    "filtered_df = df[df['Basic Info_Team Name'].isna() | (df['Basic Info_Team Name'] == 'undefined')]\n",
    "\n",
    "# Select only the player name and team name columns\n",
    "filtered_df_selected = filtered_df[['Basic Info_Player Name', 'Basic Info_Team Name']]\n",
    "\n",
    "# Display the selected data\n",
    "display(filtered_df_selected.head())\n",
    "display(filtered_df_selected.tail())"
   ]
  },
  {
   "cell_type": "code",
   "execution_count": 8,
   "metadata": {},
   "outputs": [
    {
     "name": "stdout",
     "output_type": "stream",
     "text": [
      "The number of players/teams in the filtered data: 4\n"
     ]
    }
   ],
   "source": [
    "# Get the count of rows in the filtered DataFrame\n",
    "row_count = filtered_df_selected.shape[0]\n",
    "\n",
    "# Display the row count\n",
    "print(f'The number of players/teams in the filtered data: {row_count}')"
   ]
  },
  {
   "cell_type": "code",
   "execution_count": 11,
   "metadata": {},
   "outputs": [
    {
     "data": {
      "text/html": [
       "<div>\n",
       "<style scoped>\n",
       "    .dataframe tbody tr th:only-of-type {\n",
       "        vertical-align: middle;\n",
       "    }\n",
       "\n",
       "    .dataframe tbody tr th {\n",
       "        vertical-align: top;\n",
       "    }\n",
       "\n",
       "    .dataframe thead th {\n",
       "        text-align: right;\n",
       "    }\n",
       "</style>\n",
       "<table border=\"1\" class=\"dataframe\">\n",
       "  <thead>\n",
       "    <tr style=\"text-align: right;\">\n",
       "      <th></th>\n",
       "      <th>Basic Info_Player Name</th>\n",
       "      <th>Basic Info_Team Name</th>\n",
       "    </tr>\n",
       "  </thead>\n",
       "  <tbody>\n",
       "    <tr>\n",
       "      <th>0</th>\n",
       "      <td>ZywOo</td>\n",
       "      <td>Vitality</td>\n",
       "    </tr>\n",
       "    <tr>\n",
       "      <th>1</th>\n",
       "      <td>s1mple</td>\n",
       "      <td>Natus Vincere</td>\n",
       "    </tr>\n",
       "    <tr>\n",
       "      <th>2</th>\n",
       "      <td>sh1ro</td>\n",
       "      <td>Spirit</td>\n",
       "    </tr>\n",
       "    <tr>\n",
       "      <th>3</th>\n",
       "      <td>donk</td>\n",
       "      <td>Spirit</td>\n",
       "    </tr>\n",
       "    <tr>\n",
       "      <th>4</th>\n",
       "      <td>deko</td>\n",
       "      <td>Aurora</td>\n",
       "    </tr>\n",
       "  </tbody>\n",
       "</table>\n",
       "</div>"
      ],
      "text/plain": [
       "  Basic Info_Player Name Basic Info_Team Name\n",
       "0                  ZywOo             Vitality\n",
       "1                 s1mple        Natus Vincere\n",
       "2                  sh1ro               Spirit\n",
       "3                   donk               Spirit\n",
       "4                   deko               Aurora"
      ]
     },
     "metadata": {},
     "output_type": "display_data"
    }
   ],
   "source": [
    "#Checking the original data frame\n",
    "df_selected = df[['Basic Info_Player Name', 'Basic Info_Team Name']]\n",
    "display(df_selected.head())"
   ]
  },
  {
   "cell_type": "code",
   "execution_count": 12,
   "metadata": {},
   "outputs": [
    {
     "name": "stdout",
     "output_type": "stream",
     "text": [
      "Data type of 'Basic Info_Team Name': object\n",
      "Number of NaN values: 0\n",
      "Number of non-NaN values: 968\n"
     ]
    }
   ],
   "source": [
    "# Check the data types of the selected columns\n",
    "team_name_dtype = df['Basic Info_Team Name'].dtype\n",
    "\n",
    "# Check for NaN values in the 'Basic Info_Team Name' column and count occurrences of each type (NaN or not NaN)\n",
    "team_name_nan_count = df['Basic Info_Team Name'].isna().sum()\n",
    "team_name_non_nan_count = df['Basic Info_Team Name'].notna().sum()\n",
    "\n",
    "# Display the results\n",
    "print(f\"Data type of 'Basic Info_Team Name': {team_name_dtype}\")\n",
    "print(f\"Number of NaN values: {team_name_nan_count}\")\n",
    "print(f\"Number of non-NaN values: {team_name_non_nan_count}\")\n"
   ]
  }
 ],
 "metadata": {
  "kernelspec": {
   "display_name": "dev",
   "language": "python",
   "name": "python3"
  },
  "language_info": {
   "codemirror_mode": {
    "name": "ipython",
    "version": 3
   },
   "file_extension": ".py",
   "mimetype": "text/x-python",
   "name": "python",
   "nbconvert_exporter": "python",
   "pygments_lexer": "ipython3",
   "version": "3.10.14"
  }
 },
 "nbformat": 4,
 "nbformat_minor": 2
}
