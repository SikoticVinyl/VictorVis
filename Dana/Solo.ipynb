{
 "cells": [
  {
   "cell_type": "markdown",
   "metadata": {},
   "source": [
    "# Exploring and Cleaning Player Team Data\n",
    "\n",
    "In this notebook, we will be exploring and preparing a dataset containing player statistics from various teams. The overall goal is to clean and organize this data in a way that allows us to efficiently analyze and work with team-specific information.\n",
    "\n",
    "### Step 1: Checking for Missing Values in Team Names\n",
    "\n",
    "Our first step is to verify the integrity of the dataset by checking for any missing or undefined values in the `Basic Info_Team Name` column. Missing team names could indicate incomplete or faulty data, which could affect subsequent analysis. If any NaN values are found, we will either correct or remove them to ensure that the data is clean before proceeding with further analysis.\n"
   ]
  },
  {
   "cell_type": "code",
   "execution_count": 1,
   "metadata": {},
   "outputs": [],
   "source": [
    "import pandas as pd\n",
    "\n",
    "# Read the data from the CSV file\n",
    "df = pd.read_csv('../data/deep_player_data.csv')"
   ]
  },
  {
   "cell_type": "code",
   "execution_count": 7,
   "metadata": {},
   "outputs": [
    {
     "data": {
      "text/html": [
       "<div>\n",
       "<style scoped>\n",
       "    .dataframe tbody tr th:only-of-type {\n",
       "        vertical-align: middle;\n",
       "    }\n",
       "\n",
       "    .dataframe tbody tr th {\n",
       "        vertical-align: top;\n",
       "    }\n",
       "\n",
       "    .dataframe thead th {\n",
       "        text-align: right;\n",
       "    }\n",
       "</style>\n",
       "<table border=\"1\" class=\"dataframe\">\n",
       "  <thead>\n",
       "    <tr style=\"text-align: right;\">\n",
       "      <th></th>\n",
       "      <th>Basic Info_Player Name</th>\n",
       "      <th>Basic Info_Team Name</th>\n",
       "    </tr>\n",
       "  </thead>\n",
       "  <tbody>\n",
       "    <tr>\n",
       "      <th>139</th>\n",
       "      <td>CLASIA</td>\n",
       "      <td>undefined</td>\n",
       "    </tr>\n",
       "    <tr>\n",
       "      <th>324</th>\n",
       "      <td>motm</td>\n",
       "      <td>undefined</td>\n",
       "    </tr>\n",
       "    <tr>\n",
       "      <th>562</th>\n",
       "      <td>chop</td>\n",
       "      <td>undefined</td>\n",
       "    </tr>\n",
       "    <tr>\n",
       "      <th>580</th>\n",
       "      <td>stamina</td>\n",
       "      <td>undefined</td>\n",
       "    </tr>\n",
       "  </tbody>\n",
       "</table>\n",
       "</div>"
      ],
      "text/plain": [
       "    Basic Info_Player Name Basic Info_Team Name\n",
       "139                 CLASIA            undefined\n",
       "324                   motm            undefined\n",
       "562                   chop            undefined\n",
       "580                stamina            undefined"
      ]
     },
     "metadata": {},
     "output_type": "display_data"
    },
    {
     "data": {
      "text/html": [
       "<div>\n",
       "<style scoped>\n",
       "    .dataframe tbody tr th:only-of-type {\n",
       "        vertical-align: middle;\n",
       "    }\n",
       "\n",
       "    .dataframe tbody tr th {\n",
       "        vertical-align: top;\n",
       "    }\n",
       "\n",
       "    .dataframe thead th {\n",
       "        text-align: right;\n",
       "    }\n",
       "</style>\n",
       "<table border=\"1\" class=\"dataframe\">\n",
       "  <thead>\n",
       "    <tr style=\"text-align: right;\">\n",
       "      <th></th>\n",
       "      <th>Basic Info_Player Name</th>\n",
       "      <th>Basic Info_Team Name</th>\n",
       "    </tr>\n",
       "  </thead>\n",
       "  <tbody>\n",
       "    <tr>\n",
       "      <th>139</th>\n",
       "      <td>CLASIA</td>\n",
       "      <td>undefined</td>\n",
       "    </tr>\n",
       "    <tr>\n",
       "      <th>324</th>\n",
       "      <td>motm</td>\n",
       "      <td>undefined</td>\n",
       "    </tr>\n",
       "    <tr>\n",
       "      <th>562</th>\n",
       "      <td>chop</td>\n",
       "      <td>undefined</td>\n",
       "    </tr>\n",
       "    <tr>\n",
       "      <th>580</th>\n",
       "      <td>stamina</td>\n",
       "      <td>undefined</td>\n",
       "    </tr>\n",
       "  </tbody>\n",
       "</table>\n",
       "</div>"
      ],
      "text/plain": [
       "    Basic Info_Player Name Basic Info_Team Name\n",
       "139                 CLASIA            undefined\n",
       "324                   motm            undefined\n",
       "562                   chop            undefined\n",
       "580                stamina            undefined"
      ]
     },
     "metadata": {},
     "output_type": "display_data"
    }
   ],
   "source": [
    "# Filter the DataFrame (teams with missing or undefined team names)\n",
    "filtered_df = df[df['Basic Info_Team Name'].isna() | (df['Basic Info_Team Name'] == 'undefined')]\n",
    "\n",
    "# Select only the player name and team name columns\n",
    "filtered_df_selected = filtered_df[['Basic Info_Player Name', 'Basic Info_Team Name']]\n",
    "\n",
    "# Display the selected data\n",
    "display(filtered_df_selected.head())\n",
    "display(filtered_df_selected.tail())"
   ]
  },
  {
   "cell_type": "code",
   "execution_count": 8,
   "metadata": {},
   "outputs": [
    {
     "name": "stdout",
     "output_type": "stream",
     "text": [
      "The number of players/teams in the filtered data: 4\n"
     ]
    }
   ],
   "source": [
    "# Get the count of rows in the filtered DataFrame\n",
    "row_count = filtered_df_selected.shape[0]\n",
    "\n",
    "# Display the row count\n",
    "print(f'The number of players/teams in the filtered data: {row_count}')"
   ]
  },
  {
   "cell_type": "code",
   "execution_count": 11,
   "metadata": {},
   "outputs": [
    {
     "data": {
      "text/html": [
       "<div>\n",
       "<style scoped>\n",
       "    .dataframe tbody tr th:only-of-type {\n",
       "        vertical-align: middle;\n",
       "    }\n",
       "\n",
       "    .dataframe tbody tr th {\n",
       "        vertical-align: top;\n",
       "    }\n",
       "\n",
       "    .dataframe thead th {\n",
       "        text-align: right;\n",
       "    }\n",
       "</style>\n",
       "<table border=\"1\" class=\"dataframe\">\n",
       "  <thead>\n",
       "    <tr style=\"text-align: right;\">\n",
       "      <th></th>\n",
       "      <th>Basic Info_Player Name</th>\n",
       "      <th>Basic Info_Team Name</th>\n",
       "    </tr>\n",
       "  </thead>\n",
       "  <tbody>\n",
       "    <tr>\n",
       "      <th>0</th>\n",
       "      <td>ZywOo</td>\n",
       "      <td>Vitality</td>\n",
       "    </tr>\n",
       "    <tr>\n",
       "      <th>1</th>\n",
       "      <td>s1mple</td>\n",
       "      <td>Natus Vincere</td>\n",
       "    </tr>\n",
       "    <tr>\n",
       "      <th>2</th>\n",
       "      <td>sh1ro</td>\n",
       "      <td>Spirit</td>\n",
       "    </tr>\n",
       "    <tr>\n",
       "      <th>3</th>\n",
       "      <td>donk</td>\n",
       "      <td>Spirit</td>\n",
       "    </tr>\n",
       "    <tr>\n",
       "      <th>4</th>\n",
       "      <td>deko</td>\n",
       "      <td>Aurora</td>\n",
       "    </tr>\n",
       "  </tbody>\n",
       "</table>\n",
       "</div>"
      ],
      "text/plain": [
       "  Basic Info_Player Name Basic Info_Team Name\n",
       "0                  ZywOo             Vitality\n",
       "1                 s1mple        Natus Vincere\n",
       "2                  sh1ro               Spirit\n",
       "3                   donk               Spirit\n",
       "4                   deko               Aurora"
      ]
     },
     "metadata": {},
     "output_type": "display_data"
    }
   ],
   "source": [
    "#Checking the original data frame\n",
    "df_selected = df[['Basic Info_Player Name', 'Basic Info_Team Name']]\n",
    "display(df_selected.head())"
   ]
  },
  {
   "cell_type": "code",
   "execution_count": 12,
   "metadata": {},
   "outputs": [
    {
     "name": "stdout",
     "output_type": "stream",
     "text": [
      "Data type of 'Basic Info_Team Name': object\n",
      "Number of NaN values: 0\n",
      "Number of non-NaN values: 968\n"
     ]
    }
   ],
   "source": [
    "# Check the data types of the selected columns\n",
    "team_name_dtype = df['Basic Info_Team Name'].dtype\n",
    "\n",
    "# Check for NaN values in the 'Basic Info_Team Name' column and count occurrences of each type (NaN or not NaN)\n",
    "team_name_nan_count = df['Basic Info_Team Name'].isna().sum()\n",
    "team_name_non_nan_count = df['Basic Info_Team Name'].notna().sum()\n",
    "\n",
    "# Display the results\n",
    "print(f\"Data type of 'Basic Info_Team Name': {team_name_dtype}\")\n",
    "print(f\"Number of NaN values: {team_name_nan_count}\")\n",
    "print(f\"Number of non-NaN values: {team_name_non_nan_count}\")\n"
   ]
  },
  {
   "cell_type": "markdown",
   "metadata": {},
   "source": [
    "### Step 2: Cleaning the Data\n",
    "\n",
    "After confirming that no missing values (NaN) are present in the `Basic Info_Team Name` column, we can move forward with cleaning and preparing the dataset. This involves handling outliers, normalizing numerical values, and ensuring that all columns are formatted consistently. \n",
    "\n",
    "We aim to normalize the player statistics across all teams to ensure consistent comparisons and analysis. Once the data is cleaned, we will split it into separate dataframes for each team, allowing us to analyze team-specific information more efficiently.\n"
   ]
  },
  {
   "cell_type": "code",
   "execution_count": 16,
   "metadata": {},
   "outputs": [
    {
     "data": {
      "text/plain": [
       "Summary Stats_DPR                               float64\n",
       "Summary Stats_KPR                               float64\n",
       "Detailed Stats_Deaths / round                   float64\n",
       "Role Stats_Firepower_Score                       object\n",
       "Role Stats_Opening_Win% after opening kill       object\n",
       "                                                 ...   \n",
       "Detailed Stats_Maps played                        int64\n",
       "Role Stats_Trading_Saved teammate per round     float64\n",
       "Summary Stats_Rating 2.0                        float64\n",
       "Role Stats_Opening_Score                         object\n",
       "Role Stats_Entrying_Traded deaths percentage     object\n",
       "Length: 74, dtype: object"
      ]
     },
     "metadata": {},
     "output_type": "display_data"
    },
    {
     "name": "stdout",
     "output_type": "stream",
     "text": [
      "float64    37\n",
      "object     32\n",
      "int64       5\n",
      "Name: count, dtype: int64\n"
     ]
    }
   ],
   "source": [
    "#Checking the original data frame data types\n",
    "display(df.dtypes)\n",
    "\n",
    "# Count the number of columns with each data type\n",
    "type_counts = df.dtypes.value_counts()\n",
    "print(type_counts)"
   ]
  },
  {
   "cell_type": "code",
   "execution_count": 17,
   "metadata": {},
   "outputs": [
    {
     "name": "stdout",
     "output_type": "stream",
     "text": [
      "\n",
      "float64:\n",
      "Summary Stats_DPR, Summary Stats_KPR, Detailed Stats_Deaths / round, Detailed Stats_Damage / Round, Role Stats_Opening_Opening deaths per round, Detailed Stats_Assists / round, Role Stats_Sniping_Sniper kills per round, Role Stats_Opening_Opening kills per round, Role Stats_Sniping_Sniper multi-kill rounds, Detailed Stats_Kills / round, Detailed Stats_Rating 1.0, Detailed Stats_Rating 2.0, Role Stats_Clutching_Clutch points per round, Role Stats_Entrying_Saved by teammate per round, Role Stats_Utility_Utility kills per 100 rounds, Summary Stats_Impact, Role Stats_Utility_Flashes thrown per round, Role Stats_Firepower_Kills per round, Detailed Stats_Saved by teammate / round, Role Stats_Entrying_Traded deaths per round, Role Stats_Entrying_Assists per round, Role Stats_Trading_Trade kills per round, Role Stats_Utility_Flash assists per round, Role Stats_Utility_Time opponent flashed per round, Summary Stats_Rating 1.0, Summary Stats_ADR, Role Stats_Utility_Utility damage per round, Detailed Stats_Saved teammates / round, Role Stats_Firepower_Damage per round, Detailed Stats_K/D Ratio, Role Stats_Firepower_Kills per round win, Role Stats_Opening_Attacks per round, Role Stats_Firepower_Damage per round win, Role Stats_Sniping_Sniper opening kills per round, Detailed Stats_Grenade dmg / Round, Role Stats_Trading_Saved teammate per round, Summary Stats_Rating 2.0\n",
      "\n",
      "object:\n",
      "Role Stats_Firepower_Score, Role Stats_Opening_Win% after opening kill, Role Stats_Clutching_Score, Detailed Stats_Headshot %, Role Stats_Entrying_Support rounds, Basic Info_Team Name, Role Stats_Sniping_Rounds with sniper kills percentage, URL, Role Stats_Firepower_Rating 2.0, Role Stats_Opening_Opening success, Role Stats_Firepower_Rounds with a kill, Role Stats_Firepower_Rounds with a multi-kill, Role Stats_Entrying_Score, Basic Info_Age, Role Stats_Trading_Trade kills percentage, Role Stats_Clutching_Saves per round loss, Role Stats_Trading_Score, Role Stats_Entrying_Opening deaths traded percentage, Summary Stats_KAST, Role Stats_Trading_Assisted kills percentage, Basic Info_Real Name, Role Stats_Clutching_1on1 win percentage, Role Stats_Firepower_Pistol round rating, Role Stats_Sniping_Sniper kills percentage, Role Stats_Sniping_Score, Basic Info_Player Name, Role Stats_Opening_Opening attempts, Role Stats_Utility_Score, Role Stats_Clutching_Time alive per round, Role Stats_Clutching_Last alive percentage, Role Stats_Opening_Score, Role Stats_Entrying_Traded deaths percentage\n",
      "\n",
      "int64:\n",
      "Detailed Stats_Total kills, Detailed Stats_Total deaths, Role Stats_Trading_Damage per kill, Detailed Stats_Rounds played, Detailed Stats_Maps played\n"
     ]
    }
   ],
   "source": [
    "type_dict = {str(t): df.select_dtypes(include=[t]).columns.tolist() for t in df.dtypes.unique()}\n",
    "for t, cols in type_dict.items():\n",
    "    print(f\"\\n{t}:\")\n",
    "    print(\", \".join(cols))"
   ]
  }
 ],
 "metadata": {
  "kernelspec": {
   "display_name": "dev",
   "language": "python",
   "name": "python3"
  },
  "language_info": {
   "codemirror_mode": {
    "name": "ipython",
    "version": 3
   },
   "file_extension": ".py",
   "mimetype": "text/x-python",
   "name": "python",
   "nbconvert_exporter": "python",
   "pygments_lexer": "ipython3",
   "version": "3.10.14"
  }
 },
 "nbformat": 4,
 "nbformat_minor": 2
}
