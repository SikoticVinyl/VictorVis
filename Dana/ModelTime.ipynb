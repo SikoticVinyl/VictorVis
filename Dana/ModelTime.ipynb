{
 "cells": [
  {
   "cell_type": "code",
   "execution_count": 1,
   "metadata": {},
   "outputs": [],
   "source": [
    "# Imports\n",
    "import pandas as pd\n",
    "import numpy as np\n",
    "from sklearn.model_selection import train_test_split\n",
    "from sklearn.preprocessing import StandardScaler, OneHotEncoder\n",
    "from sklearn.compose import ColumnTransformer\n",
    "from sklearn.pipeline import Pipeline\n",
    "from sklearn.preprocessing import OneHotEncoder\n",
    "from category_encoders import TargetEncoder"
   ]
  },
  {
   "cell_type": "code",
   "execution_count": 2,
   "metadata": {},
   "outputs": [
    {
     "name": "stdout",
     "output_type": "stream",
     "text": [
      "player_name                                0\n",
      "real_name                                  0\n",
      "team                                       0\n",
      "age                                        0\n",
      "rating                                     0\n",
      "                                          ..\n",
      "utility_damage_per_round                   0\n",
      "utility_kills_per_100_rounds               0\n",
      "utility_flashes_thrown_per_round           0\n",
      "utility_flash_assists_per_round            0\n",
      "utility_time_opponent_flashed_per_round    0\n",
      "Length: 69, dtype: int64\n"
     ]
    }
   ],
   "source": [
    "#Load and small preprocess of data \n",
    "\n",
    "data_path = '../CleanData/all_players_df.pkl'\n",
    "df = pd.read_pickle(data_path)\n",
    "\n",
    "print(df.isnull().sum())"
   ]
  },
  {
   "cell_type": "code",
   "execution_count": 3,
   "metadata": {},
   "outputs": [],
   "source": [
    "# Drop the age column due to error in current data with age (no time to fix will come back to it)\n",
    "df = df.drop('age', axis=1, errors='ignore')"
   ]
  },
  {
   "cell_type": "code",
   "execution_count": 4,
   "metadata": {},
   "outputs": [
    {
     "name": "stdout",
     "output_type": "stream",
     "text": [
      "DataFrame shape after selecting columns: (968, 13)\n"
     ]
    }
   ],
   "source": [
    "# List of columns selected via feature selection\n",
    "columns_to_keep = [\n",
    "    # Numeric features\n",
    "    'kd_ratio', 'firepower_damage_per_round_win', 'kills_per_round',\n",
    "    'firepower_score', 'impact', 'trading_damage_per_kill', 'kast',\n",
    "    'entrying_support_rounds', 'utility_time_opponent_flashed_per_round',\n",
    "    \n",
    "    # Categorical features\n",
    "    'team', 'player_name', 'real_name',\n",
    "    \n",
    "    # Target variable\n",
    "    'rating'\n",
    "]\n",
    "\n",
    "# Keep only the selected columns\n",
    "df = df[columns_to_keep]\n",
    "print(f\"DataFrame shape after selecting columns: {df.shape}\")"
   ]
  },
  {
   "cell_type": "code",
   "execution_count": 5,
   "metadata": {},
   "outputs": [],
   "source": [
    "#Split the data into train and test\n",
    "X = df.drop('rating', axis=1)\n",
    "y = df['rating']\n",
    "\n",
    "X_train, X_test, y_train, y_test = train_test_split(X, y, test_size=0.2, random_state=42)"
   ]
  },
  {
   "cell_type": "code",
   "execution_count": 7,
   "metadata": {},
   "outputs": [],
   "source": [
    "#One-Hot Encoding for team\n",
    "onehot = OneHotEncoder(sparse_output=False, handle_unknown='ignore')\n",
    "\n",
    "team_encoded_train = onehot.fit_transform(X_train[['team']])\n",
    "team_encoded_test = onehot.transform(X_test[['team']])\n",
    "\n",
    "# Get the new column names for team_name\n",
    "team_columns = onehot.get_feature_names_out(['team'])"
   ]
  },
  {
   "cell_type": "code",
   "execution_count": 8,
   "metadata": {},
   "outputs": [],
   "source": [
    "# Target Encoding for player_name and real_name\n",
    "te = TargetEncoder()\n",
    "player_encoded_train = te.fit_transform(X_train[['player_name', 'real_name']], y_train)\n",
    "player_encoded_test = te.transform(X_test[['player_name', 'real_name']])"
   ]
  }
 ],
 "metadata": {
  "kernelspec": {
   "display_name": "dev",
   "language": "python",
   "name": "python3"
  },
  "language_info": {
   "codemirror_mode": {
    "name": "ipython",
    "version": 3
   },
   "file_extension": ".py",
   "mimetype": "text/x-python",
   "name": "python",
   "nbconvert_exporter": "python",
   "pygments_lexer": "ipython3",
   "version": "3.10.14"
  }
 },
 "nbformat": 4,
 "nbformat_minor": 2
}
