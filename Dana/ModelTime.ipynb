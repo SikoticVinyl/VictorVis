{
 "cells": [
  {
   "cell_type": "code",
   "execution_count": 1,
   "metadata": {},
   "outputs": [],
   "source": [
    "# Imports\n",
    "import pandas as pd\n",
    "import numpy as np\n",
    "from sklearn.model_selection import train_test_split\n",
    "from sklearn.preprocessing import StandardScaler, OneHotEncoder\n",
    "from sklearn.compose import ColumnTransformer\n",
    "from sklearn.pipeline import Pipeline\n",
    "from category_encoders import TargetEncoder\n",
    "from sklearn.linear_model import LinearRegression\n",
    "from sklearn.ensemble import RandomForestRegressor\n",
    "from xgboost import XGBRegressor\n",
    "from sklearn.metrics import mean_squared_error, r2_score"
   ]
  },
  {
   "cell_type": "code",
   "execution_count": 2,
   "metadata": {},
   "outputs": [
    {
     "name": "stdout",
     "output_type": "stream",
     "text": [
      "player_name                                0\n",
      "real_name                                  0\n",
      "team                                       0\n",
      "age                                        0\n",
      "rating                                     0\n",
      "                                          ..\n",
      "utility_damage_per_round                   0\n",
      "utility_kills_per_100_rounds               0\n",
      "utility_flashes_thrown_per_round           0\n",
      "utility_flash_assists_per_round            0\n",
      "utility_time_opponent_flashed_per_round    0\n",
      "Length: 69, dtype: int64\n"
     ]
    }
   ],
   "source": [
    "#Load and small preprocess of data \n",
    "\n",
    "data_path = '../CleanData/all_players_df.pkl'\n",
    "df = pd.read_pickle(data_path)\n",
    "\n",
    "print(df.isnull().sum())"
   ]
  },
  {
   "cell_type": "code",
   "execution_count": 3,
   "metadata": {},
   "outputs": [],
   "source": [
    "# Drop the age column due to error in current data with age (no time to fix will come back to it)\n",
    "df = df.drop('age', axis=1, errors='ignore')"
   ]
  },
  {
   "cell_type": "code",
   "execution_count": 4,
   "metadata": {},
   "outputs": [
    {
     "name": "stdout",
     "output_type": "stream",
     "text": [
      "DataFrame shape after selecting columns: (968, 13)\n"
     ]
    }
   ],
   "source": [
    "# List of columns selected via feature selection\n",
    "columns_to_keep = [\n",
    "    # Numeric features\n",
    "    'kd_ratio', 'firepower_damage_per_round_win', 'kills_per_round',\n",
    "    'firepower_score', 'impact', 'trading_damage_per_kill', 'kast',\n",
    "    'entrying_support_rounds', 'utility_time_opponent_flashed_per_round',\n",
    "    \n",
    "    # Categorical features\n",
    "    'team', 'player_name', 'real_name',\n",
    "    \n",
    "    # Target variable\n",
    "    'rating'\n",
    "]\n",
    "\n",
    "# Keep only the selected columns\n",
    "df = df[columns_to_keep]\n",
    "print(f\"DataFrame shape after selecting columns: {df.shape}\")"
   ]
  },
  {
   "cell_type": "code",
   "execution_count": 5,
   "metadata": {},
   "outputs": [],
   "source": [
    "#Split the data into train and test\n",
    "X = df.drop('rating', axis=1)\n",
    "y = df['rating']\n",
    "\n",
    "X_train, X_test, y_train, y_test = train_test_split(X, y, test_size=0.2, random_state=42)"
   ]
  },
  {
   "cell_type": "code",
   "execution_count": 7,
   "metadata": {},
   "outputs": [],
   "source": [
    "#One-Hot Encoding for team\n",
    "onehot = OneHotEncoder(sparse_output=False, handle_unknown='ignore')\n",
    "\n",
    "team_encoded_train = onehot.fit_transform(X_train[['team']])\n",
    "team_encoded_test = onehot.transform(X_test[['team']])\n",
    "\n",
    "# Get the new column names for team_name\n",
    "team_columns = onehot.get_feature_names_out(['team'])"
   ]
  },
  {
   "cell_type": "code",
   "execution_count": 8,
   "metadata": {},
   "outputs": [],
   "source": [
    "# Target Encoding for player_name and real_name\n",
    "te = TargetEncoder()\n",
    "player_encoded_train = te.fit_transform(X_train[['player_name', 'real_name']], y_train)\n",
    "player_encoded_test = te.transform(X_test[['player_name', 'real_name']])"
   ]
  },
  {
   "cell_type": "code",
   "execution_count": 9,
   "metadata": {},
   "outputs": [],
   "source": [
    "# Combine the encoded categorical features with the numeric features\n",
    "numeric_features = ['kd_ratio', 'firepower_damage_per_round_win', 'kills_per_round',\n",
    "                    'firepower_score', 'impact', 'trading_damage_per_kill', 'kast',\n",
    "                    'entrying_support_rounds', 'utility_time_opponent_flashed_per_round']\n",
    "\n",
    "X_train_encoded = np.hstack([X_train[numeric_features].values, team_encoded_train, player_encoded_train])\n",
    "X_test_encoded = np.hstack([X_test[numeric_features].values, team_encoded_test, player_encoded_test])"
   ]
  },
  {
   "cell_type": "code",
   "execution_count": 10,
   "metadata": {},
   "outputs": [
    {
     "name": "stdout",
     "output_type": "stream",
     "text": [
      "Shape of encoded training data: (774, 186)\n",
      "Shape of encoded test data: (194, 186)\n",
      "Feature names: ['kd_ratio', 'firepower_damage_per_round_win', 'kills_per_round', 'firepower_score', 'impact', 'trading_damage_per_kill', 'kast', 'entrying_support_rounds', 'utility_time_opponent_flashed_per_round', 'team_1win', 'team_359', 'team_3dmax', 'team_500', 'team_9 pandas', 'team_9ine', 'team_9ine academy', 'team_alliance', 'team_alter ego', 'team_alternate attax', 'team_ambush', 'team_amkal', 'team_anonymo', 'team_antic', 'team_apogee', 'team_arcred', 'team_astralis', 'team_atox', 'team_aurora', 'team_b8', 'team_bad news chickens', 'team_bc.game', 'team_bestia', 'team_betboom', 'team_betera', 'team_big', 'team_bleed', 'team_blue otter karma', 'team_bogatyri', 'team_boss', 'team_bounty hunters', 'team_case', 'team_cloud9', 'team_complexity', 'team_cph wolves', 'team_dash', 'team_dofg', 'team_drillas', 'team_dusty roots', 'team_dxa', 'team_e-xolos lazer', 'team_eclot', 'team_ecstatic', 'team_ence', 'team_ence academy', 'team_endpoint', 'team_enjoy', 'team_entropiq', 'team_esc', 'team_eternal fire', 'team_ex-enterprise', 'team_ex-synck', 'team_exo', 'team_eyeballers', 'team_falcons', 'team_favbet', 'team_faze', 'team_fire flux', 'team_fluffy aimers', 'team_fluxo', 'team_flyquest', 'team_fnatic', 'team_furia', 'team_furia fe', 'team_g2', 'team_g2 ares', 'team_gaimin gladiators', 'team_galorys', 'team_gamerlegion', 'team_genone', 'team_gl academy', 'team_godsent', 'team_gun5', 'team_havu', 'team_heimo', 'team_heroic', 'team_homyno', 'team_housebets', 'team_illuminar', 'team_im apartments', 'team_ima problem', 'team_imperial', 'team_ination', 'team_infinite', 'team_insanity', 'team_insilio', 'team_into the breach', 'team_jano', 'team_jijiehao', 'team_johnny speeds', 'team_koi', 'team_kono', 'team_krü', 'team_lausanne', 'team_legacy', 'team_leon', 'team_lilmix', 'team_liquid', 'team_lynn vision', 'team_m80', 'team_masonic', 'team_metizport', 'team_mibr', 'team_mibr academy', 'team_might', 'team_mindfreak', 'team_monte', 'team_monte gen', 'team_mouz', 'team_mythic', 'team_natus vincere', 'team_navi youth', 'team_nemiga', 'team_nexus', 'team_ninjas in pyjamas', 'team_nip impact', 'team_nkt', 'team_no team', 'team_nouns', 'team_nrg', 'team_oddik', 'team_og', 'team_onyx ravens', 'team_pain', 'team_parivision', 'team_partizan', 'team_party astronauts', 'team_passion ua', 'team_permitta', 'team_players', 'team_preasy', 'team_punishers', 'team_quixal', 'team_ramboot', 'team_rare atom', 'team_red canids', 'team_revenant', 'team_rg', 'team_rooster', 'team_sampi', 'team_sangal', 'team_sashi', 'team_saw', 'team_semperfi', 'team_sensei', 'team_sharks', 'team_sinners', 'team_solid', 'team_space', 'team_spirit', 'team_sport', 'team_steel helmet', 'team_superfkrs', 'team_talon', 'team_the huns', 'team_the mongolz', 'team_timbermen', 'team_tnl', 'team_tsm', 'team_tyloo', 'team_undefined', 'team_unity', 'team_unjustified', 'team_velox', 'team_verdant', 'team_vibe', 'team_vikings kr', 'team_virtus.pro', 'team_vitality', 'team_vp.prodigy', 'team_w7m', 'team_wildcard', 'team_wopa', 'team_xi b', 'team_zero tenacity', 'player_name_encoded', 'real_name_encoded']\n"
     ]
    }
   ],
   "source": [
    "# Create a list of feature names\n",
    "feature_names = numeric_features + list(team_columns) + ['player_name_encoded', 'real_name_encoded']\n",
    "\n",
    "# Convert to dataframe for easier handling\n",
    "X_train_encoded = pd.DataFrame(X_train_encoded, columns=feature_names)\n",
    "X_test_encoded = pd.DataFrame(X_test_encoded, columns=feature_names)\n",
    "\n",
    "print(\"Shape of encoded training data:\", X_train_encoded.shape)\n",
    "print(\"Shape of encoded test data:\", X_test_encoded.shape)\n",
    "print(\"Feature names:\", feature_names)"
   ]
  },
  {
   "cell_type": "markdown",
   "metadata": {},
   "source": [
    "### Model Time\n",
    "\n",
    "Time to train the models\n",
    "\n"
   ]
  },
  {
   "cell_type": "code",
   "execution_count": null,
   "metadata": {},
   "outputs": [],
   "source": [
    "# Initialize models\n",
    "models = {\n",
    "    'Linear Regression': LinearRegression(),\n",
    "    'Random Forest': RandomForestRegressor(random_state=42),\n",
    "    'XGBoost': XGBRegressor(random_state=42)\n",
    "}"
   ]
  }
 ],
 "metadata": {
  "kernelspec": {
   "display_name": "dev",
   "language": "python",
   "name": "python3"
  },
  "language_info": {
   "codemirror_mode": {
    "name": "ipython",
    "version": 3
   },
   "file_extension": ".py",
   "mimetype": "text/x-python",
   "name": "python",
   "nbconvert_exporter": "python",
   "pygments_lexer": "ipython3",
   "version": "3.10.14"
  }
 },
 "nbformat": 4,
 "nbformat_minor": 2
}
